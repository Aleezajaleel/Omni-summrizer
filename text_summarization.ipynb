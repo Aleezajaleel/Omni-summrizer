{
 "cells": [
  {
   "cell_type": "code",
   "execution_count": 1,
   "id": "d32d9ab3",
   "metadata": {},
   "outputs": [
    {
     "data": {
      "text/plain": [
       "True"
      ]
     },
     "execution_count": 1,
     "metadata": {},
     "output_type": "execute_result"
    }
   ],
   "source": [
    "import os \n",
    "from dotenv import  load_dotenv\n",
    "\n",
    "load_dotenv()"
   ]
  },
  {
   "cell_type": "code",
   "execution_count": 2,
   "id": "496c90cf",
   "metadata": {},
   "outputs": [
    {
     "data": {
      "text/plain": [
       "ChatGroq(client=<groq.resources.chat.completions.Completions object at 0x116a88710>, async_client=<groq.resources.chat.completions.AsyncCompletions object at 0x116bcd0d0>, model_name='gemma2-9b-it', model_kwargs={}, groq_api_key=SecretStr('**********'))"
      ]
     },
     "execution_count": 2,
     "metadata": {},
     "output_type": "execute_result"
    }
   ],
   "source": [
    "from langchain_groq import ChatGroq\n",
    "\n",
    "api_key = os.getenv(\"GROQ_API_KEY\")\n",
    "\n",
    "llm= ChatGroq(groq_api_key=api_key,model=\"gemma2-9b-it\")\n",
    "\n",
    "llm"
   ]
  },
  {
   "cell_type": "code",
   "execution_count": 3,
   "id": "f3881711",
   "metadata": {},
   "outputs": [],
   "source": [
    "from langchain.schema import(\n",
    "    AIMessage,\n",
    "    HumanMessage,\n",
    "    SystemMessage\n",
    ")"
   ]
  },
  {
   "cell_type": "code",
   "execution_count": 4,
   "id": "4ed70bdc",
   "metadata": {},
   "outputs": [],
   "source": [
    "speech = \"\"\"\n",
    "\n",
    "Quaid-e-Azam Muhammad Ali Jinnah is the founder of Pakistan and our great leader.\n",
    "\n",
    "He was born on 25th December 1876 in Karachi.\n",
    "\n",
    "Quaid-e-Azam was a man of truth, hard work, and strong determination.\n",
    "\n",
    "He studied law in England and became a great lawyer.\n",
    "\n",
    "He fought for the rights of Muslims in the Indian subcontinent.\n",
    "\n",
    "Through his struggle and leadership, Pakistan came into being on 14th August 1947.\n",
    "\n",
    "His motto was Unity, Faith, and Discipline.\n",
    "\n",
    "He always believed in education, honesty, and hard work for the progress of the nation.\n",
    "\n",
    "He worked day and night until his last breath for the people of Pakistan.\n",
    "\n",
    "Quaid-e-Azam is remembered as “Baba-e-Qaum,” the father of the nation.\n",
    "\n",
    "\n",
    "\"\"\""
   ]
  },
  {
   "cell_type": "code",
   "execution_count": 5,
   "id": "a08d76bf",
   "metadata": {},
   "outputs": [
    {
     "data": {
      "text/plain": [
       "'\\n\\nQuaid-e-Azam Muhammad Ali Jinnah is the founder of Pakistan and our great leader.\\n\\nHe was born on 25th December 1876 in Karachi.\\n\\nQuaid-e-Azam was a man of truth, hard work, and strong determination.\\n\\nHe studied law in England and became a great lawyer.\\n\\nHe fought for the rights of Muslims in the Indian subcontinent.\\n\\nThrough his struggle and leadership, Pakistan came into being on 14th August 1947.\\n\\nHis motto was Unity, Faith, and Discipline.\\n\\nHe always believed in education, honesty, and hard work for the progress of the nation.\\n\\nHe worked day and night until his last breath for the people of Pakistan.\\n\\nQuaid-e-Azam is remembered as “Baba-e-Qaum,” the father of the nation.\\n\\n\\n'"
      ]
     },
     "execution_count": 5,
     "metadata": {},
     "output_type": "execute_result"
    }
   ],
   "source": [
    "speech"
   ]
  },
  {
   "cell_type": "code",
   "execution_count": 8,
   "id": "89c4c450",
   "metadata": {},
   "outputs": [],
   "source": [
    "chat_message = [\n",
    "    SystemMessage(content=\"You are expert in summarizing speech.\"),\n",
    "    HumanMessage(content= f\"Pleaase provide a short and concise summary of the following speech:\\n Text: {speech}\")\n",
    "]"
   ]
  },
  {
   "cell_type": "code",
   "execution_count": 9,
   "id": "0865b8fb",
   "metadata": {},
   "outputs": [
    {
     "name": "stderr",
     "output_type": "stream",
     "text": [
      "/Users/malik96/Desktop/On going courses/T-GenAI Batch01/14. Summarize Text from Youtube or Website/txtt/lib/python3.11/site-packages/tqdm/auto.py:21: TqdmWarning: IProgress not found. Please update jupyter and ipywidgets. See https://ipywidgets.readthedocs.io/en/stable/user_install.html\n",
      "  from .autonotebook import tqdm as notebook_tqdm\n",
      "\n",
      "A module that was compiled using NumPy 1.x cannot be run in\n",
      "NumPy 2.3.2 as it may crash. To support both 1.x and 2.x\n",
      "versions of NumPy, modules must be compiled with NumPy 2.0.\n",
      "Some module may need to rebuild instead e.g. with 'pybind11>=2.12'.\n",
      "\n",
      "If you are a user of the module, the easiest solution will be to\n",
      "downgrade to 'numpy<2' or try to upgrade the affected module.\n",
      "We expect that some modules will need time to support NumPy 2.\n",
      "\n",
      "Traceback (most recent call last):  File \"<frozen runpy>\", line 198, in _run_module_as_main\n",
      "  File \"<frozen runpy>\", line 88, in _run_code\n",
      "  File \"/Users/malik96/Desktop/On going courses/T-GenAI Batch01/14. Summarize Text from Youtube or Website/txtt/lib/python3.11/site-packages/ipykernel_launcher.py\", line 18, in <module>\n",
      "    app.launch_new_instance()\n",
      "  File \"/Users/malik96/Desktop/On going courses/T-GenAI Batch01/14. Summarize Text from Youtube or Website/txtt/lib/python3.11/site-packages/traitlets/config/application.py\", line 1075, in launch_instance\n",
      "    app.start()\n",
      "  File \"/Users/malik96/Desktop/On going courses/T-GenAI Batch01/14. Summarize Text from Youtube or Website/txtt/lib/python3.11/site-packages/ipykernel/kernelapp.py\", line 739, in start\n",
      "    self.io_loop.start()\n",
      "  File \"/Users/malik96/Desktop/On going courses/T-GenAI Batch01/14. Summarize Text from Youtube or Website/txtt/lib/python3.11/site-packages/tornado/platform/asyncio.py\", line 211, in start\n",
      "    self.asyncio_loop.run_forever()\n",
      "  File \"/usr/local/Cellar/python@3.11/3.11.11/Frameworks/Python.framework/Versions/3.11/lib/python3.11/asyncio/base_events.py\", line 608, in run_forever\n",
      "    self._run_once()\n",
      "  File \"/usr/local/Cellar/python@3.11/3.11.11/Frameworks/Python.framework/Versions/3.11/lib/python3.11/asyncio/base_events.py\", line 1936, in _run_once\n",
      "    handle._run()\n",
      "  File \"/usr/local/Cellar/python@3.11/3.11.11/Frameworks/Python.framework/Versions/3.11/lib/python3.11/asyncio/events.py\", line 84, in _run\n",
      "    self._context.run(self._callback, *self._args)\n",
      "  File \"/Users/malik96/Desktop/On going courses/T-GenAI Batch01/14. Summarize Text from Youtube or Website/txtt/lib/python3.11/site-packages/ipykernel/kernelbase.py\", line 519, in dispatch_queue\n",
      "    await self.process_one()\n",
      "  File \"/Users/malik96/Desktop/On going courses/T-GenAI Batch01/14. Summarize Text from Youtube or Website/txtt/lib/python3.11/site-packages/ipykernel/kernelbase.py\", line 508, in process_one\n",
      "    await dispatch(*args)\n",
      "  File \"/Users/malik96/Desktop/On going courses/T-GenAI Batch01/14. Summarize Text from Youtube or Website/txtt/lib/python3.11/site-packages/ipykernel/kernelbase.py\", line 400, in dispatch_shell\n",
      "    await result\n",
      "  File \"/Users/malik96/Desktop/On going courses/T-GenAI Batch01/14. Summarize Text from Youtube or Website/txtt/lib/python3.11/site-packages/ipykernel/ipkernel.py\", line 368, in execute_request\n",
      "    await super().execute_request(stream, ident, parent)\n",
      "  File \"/Users/malik96/Desktop/On going courses/T-GenAI Batch01/14. Summarize Text from Youtube or Website/txtt/lib/python3.11/site-packages/ipykernel/kernelbase.py\", line 767, in execute_request\n",
      "    reply_content = await reply_content\n",
      "  File \"/Users/malik96/Desktop/On going courses/T-GenAI Batch01/14. Summarize Text from Youtube or Website/txtt/lib/python3.11/site-packages/ipykernel/ipkernel.py\", line 455, in do_execute\n",
      "    res = shell.run_cell(\n",
      "  File \"/Users/malik96/Desktop/On going courses/T-GenAI Batch01/14. Summarize Text from Youtube or Website/txtt/lib/python3.11/site-packages/ipykernel/zmqshell.py\", line 577, in run_cell\n",
      "    return super().run_cell(*args, **kwargs)\n",
      "  File \"/Users/malik96/Desktop/On going courses/T-GenAI Batch01/14. Summarize Text from Youtube or Website/txtt/lib/python3.11/site-packages/IPython/core/interactiveshell.py\", line 3116, in run_cell\n",
      "    result = self._run_cell(\n",
      "  File \"/Users/malik96/Desktop/On going courses/T-GenAI Batch01/14. Summarize Text from Youtube or Website/txtt/lib/python3.11/site-packages/IPython/core/interactiveshell.py\", line 3171, in _run_cell\n",
      "    result = runner(coro)\n",
      "  File \"/Users/malik96/Desktop/On going courses/T-GenAI Batch01/14. Summarize Text from Youtube or Website/txtt/lib/python3.11/site-packages/IPython/core/async_helpers.py\", line 128, in _pseudo_sync_runner\n",
      "    coro.send(None)\n",
      "  File \"/Users/malik96/Desktop/On going courses/T-GenAI Batch01/14. Summarize Text from Youtube or Website/txtt/lib/python3.11/site-packages/IPython/core/interactiveshell.py\", line 3394, in run_cell_async\n",
      "    has_raised = await self.run_ast_nodes(code_ast.body, cell_name,\n",
      "  File \"/Users/malik96/Desktop/On going courses/T-GenAI Batch01/14. Summarize Text from Youtube or Website/txtt/lib/python3.11/site-packages/IPython/core/interactiveshell.py\", line 3639, in run_ast_nodes\n",
      "    if await self.run_code(code, result, async_=asy):\n",
      "  File \"/Users/malik96/Desktop/On going courses/T-GenAI Batch01/14. Summarize Text from Youtube or Website/txtt/lib/python3.11/site-packages/IPython/core/interactiveshell.py\", line 3699, in run_code\n",
      "    exec(code_obj, self.user_global_ns, self.user_ns)\n",
      "  File \"/var/folders/xg/v212l7wd0m769lttbj0fk5380000gn/T/ipykernel_15275/1097820000.py\", line 1, in <module>\n",
      "    llm.get_num_tokens(speech)\n",
      "  File \"/Users/malik96/Desktop/On going courses/T-GenAI Batch01/14. Summarize Text from Youtube or Website/txtt/lib/python3.11/site-packages/langchain_core/language_models/base.py\", line 366, in get_num_tokens\n",
      "    return len(self.get_token_ids(text))\n",
      "  File \"/Users/malik96/Desktop/On going courses/T-GenAI Batch01/14. Summarize Text from Youtube or Website/txtt/lib/python3.11/site-packages/langchain_core/language_models/base.py\", line 353, in get_token_ids\n",
      "    return _get_token_ids_default_method(text)\n",
      "  File \"/Users/malik96/Desktop/On going courses/T-GenAI Batch01/14. Summarize Text from Youtube or Website/txtt/lib/python3.11/site-packages/langchain_core/language_models/base.py\", line 79, in _get_token_ids_default_method\n",
      "    tokenizer = get_tokenizer()\n",
      "  File \"/Users/malik96/Desktop/On going courses/T-GenAI Batch01/14. Summarize Text from Youtube or Website/txtt/lib/python3.11/site-packages/langchain_core/language_models/base.py\", line 64, in get_tokenizer\n",
      "    from transformers import GPT2TokenizerFast  # type: ignore[import-not-found]\n",
      "  File \"/Users/malik96/Desktop/On going courses/T-GenAI Batch01/14. Summarize Text from Youtube or Website/txtt/lib/python3.11/site-packages/transformers/__init__.py\", line 27, in <module>\n",
      "    from . import dependency_versions_check\n",
      "  File \"/Users/malik96/Desktop/On going courses/T-GenAI Batch01/14. Summarize Text from Youtube or Website/txtt/lib/python3.11/site-packages/transformers/dependency_versions_check.py\", line 16, in <module>\n",
      "    from .utils.versions import require_version, require_version_core\n",
      "  File \"/Users/malik96/Desktop/On going courses/T-GenAI Batch01/14. Summarize Text from Youtube or Website/txtt/lib/python3.11/site-packages/transformers/utils/__init__.py\", line 24, in <module>\n",
      "    from .auto_docstring import (\n",
      "  File \"/Users/malik96/Desktop/On going courses/T-GenAI Batch01/14. Summarize Text from Youtube or Website/txtt/lib/python3.11/site-packages/transformers/utils/auto_docstring.py\", line 30, in <module>\n",
      "    from .generic import ModelOutput\n",
      "  File \"/Users/malik96/Desktop/On going courses/T-GenAI Batch01/14. Summarize Text from Youtube or Website/txtt/lib/python3.11/site-packages/transformers/utils/generic.py\", line 53, in <module>\n",
      "    import torch  # noqa: F401\n",
      "  File \"/Users/malik96/Desktop/On going courses/T-GenAI Batch01/14. Summarize Text from Youtube or Website/txtt/lib/python3.11/site-packages/torch/__init__.py\", line 1477, in <module>\n",
      "    from .functional import *  # noqa: F403\n",
      "  File \"/Users/malik96/Desktop/On going courses/T-GenAI Batch01/14. Summarize Text from Youtube or Website/txtt/lib/python3.11/site-packages/torch/functional.py\", line 9, in <module>\n",
      "    import torch.nn.functional as F\n",
      "  File \"/Users/malik96/Desktop/On going courses/T-GenAI Batch01/14. Summarize Text from Youtube or Website/txtt/lib/python3.11/site-packages/torch/nn/__init__.py\", line 1, in <module>\n",
      "    from .modules import *  # noqa: F403\n",
      "  File \"/Users/malik96/Desktop/On going courses/T-GenAI Batch01/14. Summarize Text from Youtube or Website/txtt/lib/python3.11/site-packages/torch/nn/modules/__init__.py\", line 35, in <module>\n",
      "    from .transformer import TransformerEncoder, TransformerDecoder, \\\n",
      "  File \"/Users/malik96/Desktop/On going courses/T-GenAI Batch01/14. Summarize Text from Youtube or Website/txtt/lib/python3.11/site-packages/torch/nn/modules/transformer.py\", line 20, in <module>\n",
      "    device: torch.device = torch.device(torch._C._get_default_device()),  # torch.device('cpu'),\n",
      "/Users/malik96/Desktop/On going courses/T-GenAI Batch01/14. Summarize Text from Youtube or Website/txtt/lib/python3.11/site-packages/torch/nn/modules/transformer.py:20: UserWarning: Failed to initialize NumPy: _ARRAY_API not found (Triggered internally at /Users/runner/work/pytorch/pytorch/pytorch/torch/csrc/utils/tensor_numpy.cpp:84.)\n",
      "  device: torch.device = torch.device(torch._C._get_default_device()),  # torch.device('cpu'),\n"
     ]
    },
    {
     "data": {
      "text/plain": [
       "187"
      ]
     },
     "execution_count": 9,
     "metadata": {},
     "output_type": "execute_result"
    }
   ],
   "source": [
    "llm.get_num_tokens(speech)"
   ]
  },
  {
   "cell_type": "code",
   "execution_count": 10,
   "id": "a17d2b29",
   "metadata": {},
   "outputs": [
    {
     "name": "stderr",
     "output_type": "stream",
     "text": [
      "/var/folders/xg/v212l7wd0m769lttbj0fk5380000gn/T/ipykernel_15275/2694584740.py:1: LangChainDeprecationWarning: The method `BaseChatModel.__call__` was deprecated in langchain-core 0.1.7 and will be removed in 1.0. Use :meth:`~invoke` instead.\n",
      "  llm(chat_message)\n"
     ]
    },
    {
     "data": {
      "text/plain": [
       "AIMessage(content='Muhammad Ali Jinnah, the founder of Pakistan, was born in 1876 and dedicated his life to fighting for Muslim rights in India. A brilliant lawyer and strong leader, he spearheaded the movement for an independent Pakistan, which was achieved on August 14, 1947. \\n\\nJinnah\\'s core values of unity, faith, and discipline guided his vision for a progressive Pakistan built on education, honesty, and hard work.  He is revered as \"Baba-e-Qaum,\" the father of the nation, for his tireless efforts on behalf of the Pakistani people.  \\n\\n', additional_kwargs={}, response_metadata={'token_usage': {'completion_tokens': 128, 'prompt_tokens': 215, 'total_tokens': 343, 'completion_time': 0.232727273, 'prompt_time': 0.004765448, 'queue_time': 0.267300018, 'total_time': 0.237492721}, 'model_name': 'gemma2-9b-it', 'system_fingerprint': 'fp_10c08bf97d', 'service_tier': 'on_demand', 'finish_reason': 'stop', 'logprobs': None}, id='run--fa3dc361-ba95-49ce-b989-368c2c9c5f9a-0', usage_metadata={'input_tokens': 215, 'output_tokens': 128, 'total_tokens': 343})"
      ]
     },
     "execution_count": 10,
     "metadata": {},
     "output_type": "execute_result"
    }
   ],
   "source": [
    "llm(chat_message)"
   ]
  },
  {
   "cell_type": "code",
   "execution_count": 11,
   "id": "24ec9a1f",
   "metadata": {},
   "outputs": [
    {
     "data": {
      "text/plain": [
       "PromptTemplate(input_variables=['language', 'speech'], input_types={}, partial_variables={}, template='\\nWrite a summary of the following speech:\\nSpeech: {speech}\\nTraanslate the precise summary to {language}\\n')"
      ]
     },
     "execution_count": 11,
     "metadata": {},
     "output_type": "execute_result"
    }
   ],
   "source": [
    "from langchain.chains import LLMChain\n",
    "from langchain import PromptTemplate\n",
    "\n",
    "generictemplate = \"\"\"\n",
    "Write a summary of the following speech:\n",
    "Speech: {speech}\n",
    "Traanslate the precise summary to {language}\n",
    "\"\"\"\n",
    "\n",
    "prompt = PromptTemplate(\n",
    "    input_variable = ['speech','language'],\n",
    "    template = generictemplate \n",
    ")\n",
    "prompt"
   ]
  },
  {
   "cell_type": "code",
   "execution_count": 12,
   "id": "4b0759b8",
   "metadata": {},
   "outputs": [
    {
     "data": {
      "text/plain": [
       "'\\nWrite a summary of the following speech:\\nSpeech: \\n\\nQuaid-e-Azam Muhammad Ali Jinnah is the founder of Pakistan and our great leader.\\n\\nHe was born on 25th December 1876 in Karachi.\\n\\nQuaid-e-Azam was a man of truth, hard work, and strong determination.\\n\\nHe studied law in England and became a great lawyer.\\n\\nHe fought for the rights of Muslims in the Indian subcontinent.\\n\\nThrough his struggle and leadership, Pakistan came into being on 14th August 1947.\\n\\nHis motto was Unity, Faith, and Discipline.\\n\\nHe always believed in education, honesty, and hard work for the progress of the nation.\\n\\nHe worked day and night until his last breath for the people of Pakistan.\\n\\nQuaid-e-Azam is remembered as “Baba-e-Qaum,” the father of the nation.\\n\\n\\n\\nTraanslate the precise summary to Urdu\\n'"
      ]
     },
     "execution_count": 12,
     "metadata": {},
     "output_type": "execute_result"
    }
   ],
   "source": [
    "complete_prompt = prompt.format(speech=speech,language=\"Urdu\")\n",
    "\n",
    "complete_prompt"
   ]
  },
  {
   "cell_type": "code",
   "execution_count": 13,
   "id": "c2ffc06b",
   "metadata": {},
   "outputs": [
    {
     "data": {
      "text/plain": [
       "212"
      ]
     },
     "execution_count": 13,
     "metadata": {},
     "output_type": "execute_result"
    }
   ],
   "source": [
    "llm.get_num_tokens(complete_prompt)"
   ]
  },
  {
   "cell_type": "code",
   "execution_count": 16,
   "id": "ae85f2b9",
   "metadata": {},
   "outputs": [
    {
     "name": "stderr",
     "output_type": "stream",
     "text": [
      "/var/folders/xg/v212l7wd0m769lttbj0fk5380000gn/T/ipykernel_15275/3410031961.py:3: LangChainDeprecationWarning: The method `Chain.run` was deprecated in langchain 0.1.0 and will be removed in 1.0. Use :meth:`~invoke` instead.\n",
      "  summary = llm_chain.run({'speech': speech,'language':'urdu'})\n"
     ]
    }
   ],
   "source": [
    "llm_chain = LLMChain(llm=llm,prompt=prompt)\n",
    "\n",
    "summary = llm_chain.run({'speech': speech,'language':'urdu'})"
   ]
  },
  {
   "cell_type": "code",
   "execution_count": 17,
   "id": "7944715d",
   "metadata": {},
   "outputs": [
    {
     "data": {
      "text/plain": [
       "'## Speech Summary:\\n\\nThis speech is a tribute to Muhammad Ali Jinnah, the founder of Pakistan and a great leader.  \\n\\nIt highlights his key qualities: honesty, hard work, determination, and his unwavering commitment to the rights of Muslims. \\n\\nThe speech emphasizes Jinnah\\'s role in leading the movement for Pakistan\\'s creation and his belief in unity, faith, and discipline as the foundation for the nation\\'s progress.  It concludes by recognizing him as \"Baba-e-Qaum,\" the father of the nation, for his tireless efforts and sacrifices for the people of Pakistan.\\n\\n## Urdu Translation:\\n\\nاس تقریر میں محمد علی جناح، پاکستان کے بانی اور عظیم رہنما کی تعریف کی گئی ہے۔ \\n\\nاس میں ان کی प्रमुख خصوصیات: سچائی، محنت، اہل کار اور مسلمانوں کے حقوق کے لیے ان کی مہارت کا ذکر کیا گیا ہے۔\\n\\nتقریر میں جناح کی پاکستان کی تشکیل کے لیے قیادت اور ان کے نظریے \"Unity, Faith, and Discipline\"  کے بارے میں زور دیا گیا ہے۔ یہ تقریر \"بابائے قوم\" کے طور پر جناح کی یاد میں ان کی کوششوں اور قربانیوں کو تسلیم کرتے ہوئے ختم ہوتی ہے۔ \\n\\n\\n'"
      ]
     },
     "execution_count": 17,
     "metadata": {},
     "output_type": "execute_result"
    }
   ],
   "source": [
    "summary"
   ]
  },
  {
   "cell_type": "code",
   "execution_count": null,
   "id": "c504535d",
   "metadata": {},
   "outputs": [],
   "source": []
  }
 ],
 "metadata": {
  "kernelspec": {
   "display_name": "txtt",
   "language": "python",
   "name": "python3"
  },
  "language_info": {
   "codemirror_mode": {
    "name": "ipython",
    "version": 3
   },
   "file_extension": ".py",
   "mimetype": "text/x-python",
   "name": "python",
   "nbconvert_exporter": "python",
   "pygments_lexer": "ipython3",
   "version": "3.11.11"
  }
 },
 "nbformat": 4,
 "nbformat_minor": 5
}
